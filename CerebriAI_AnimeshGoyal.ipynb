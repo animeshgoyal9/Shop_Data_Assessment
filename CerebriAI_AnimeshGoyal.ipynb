{
 "cells": [
  {
   "cell_type": "code",
   "execution_count": 33,
   "metadata": {},
   "outputs": [],
   "source": [
    "import numpy as np                  # Mathetimatical Operations\n",
    "import pandas as pd                 # Data manipulation\n",
    "\n",
    "# Visualization\n",
    "import seaborn as sns\n",
    "import matplotlib.pyplot as plt     \n",
    "%matplotlib inline\n",
    "\n",
    "# Datetime\n",
    "import datetime \n",
    "import time\n",
    "from datetime import datetime\n",
    "\n",
    "# Remove warnings\n",
    "import warnings\n",
    "warnings.filterwarnings('ignore')"
   ]
  },
  {
   "cell_type": "code",
   "execution_count": 34,
   "metadata": {},
   "outputs": [],
   "source": [
    "# Import the data \n",
    "\n",
    "df = pd.read_csv(\"shop_data.csv\")"
   ]
  },
  {
   "cell_type": "code",
   "execution_count": 35,
   "metadata": {},
   "outputs": [
    {
     "data": {
      "text/html": [
       "<div>\n",
       "<style scoped>\n",
       "    .dataframe tbody tr th:only-of-type {\n",
       "        vertical-align: middle;\n",
       "    }\n",
       "\n",
       "    .dataframe tbody tr th {\n",
       "        vertical-align: top;\n",
       "    }\n",
       "\n",
       "    .dataframe thead th {\n",
       "        text-align: right;\n",
       "    }\n",
       "</style>\n",
       "<table border=\"1\" class=\"dataframe\">\n",
       "  <thead>\n",
       "    <tr style=\"text-align: right;\">\n",
       "      <th></th>\n",
       "      <th>Unnamed: 0</th>\n",
       "      <th>Unnamed: 0.1</th>\n",
       "      <th>id</th>\n",
       "      <th>chain</th>\n",
       "      <th>dept</th>\n",
       "      <th>category</th>\n",
       "      <th>company</th>\n",
       "      <th>brand</th>\n",
       "      <th>date</th>\n",
       "      <th>productsize</th>\n",
       "      <th>productmeasure</th>\n",
       "      <th>purchasequantity</th>\n",
       "      <th>purchaseamount</th>\n",
       "    </tr>\n",
       "  </thead>\n",
       "  <tbody>\n",
       "    <tr>\n",
       "      <th>0</th>\n",
       "      <td>0</td>\n",
       "      <td>0</td>\n",
       "      <td>86246</td>\n",
       "      <td>205</td>\n",
       "      <td>7</td>\n",
       "      <td>707</td>\n",
       "      <td>1078778070</td>\n",
       "      <td>12564</td>\n",
       "      <td>2012-03-02</td>\n",
       "      <td>12.0</td>\n",
       "      <td>OZ</td>\n",
       "      <td>1</td>\n",
       "      <td>7.59</td>\n",
       "    </tr>\n",
       "    <tr>\n",
       "      <th>1</th>\n",
       "      <td>1</td>\n",
       "      <td>1</td>\n",
       "      <td>86246</td>\n",
       "      <td>205</td>\n",
       "      <td>63</td>\n",
       "      <td>6319</td>\n",
       "      <td>107654575</td>\n",
       "      <td>17876</td>\n",
       "      <td>2012-03-02</td>\n",
       "      <td>64.0</td>\n",
       "      <td>OZ</td>\n",
       "      <td>1</td>\n",
       "      <td>1.59</td>\n",
       "    </tr>\n",
       "    <tr>\n",
       "      <th>2</th>\n",
       "      <td>2</td>\n",
       "      <td>2</td>\n",
       "      <td>86246</td>\n",
       "      <td>205</td>\n",
       "      <td>97</td>\n",
       "      <td>9753</td>\n",
       "      <td>1022027929</td>\n",
       "      <td>0</td>\n",
       "      <td>2012-03-02</td>\n",
       "      <td>1.0</td>\n",
       "      <td>CT</td>\n",
       "      <td>1</td>\n",
       "      <td>5.99</td>\n",
       "    </tr>\n",
       "    <tr>\n",
       "      <th>3</th>\n",
       "      <td>3</td>\n",
       "      <td>3</td>\n",
       "      <td>86246</td>\n",
       "      <td>205</td>\n",
       "      <td>25</td>\n",
       "      <td>2509</td>\n",
       "      <td>107996777</td>\n",
       "      <td>31373</td>\n",
       "      <td>2012-03-02</td>\n",
       "      <td>16.0</td>\n",
       "      <td>OZ</td>\n",
       "      <td>1</td>\n",
       "      <td>1.99</td>\n",
       "    </tr>\n",
       "    <tr>\n",
       "      <th>4</th>\n",
       "      <td>4</td>\n",
       "      <td>4</td>\n",
       "      <td>86246</td>\n",
       "      <td>205</td>\n",
       "      <td>55</td>\n",
       "      <td>5555</td>\n",
       "      <td>107684070</td>\n",
       "      <td>32094</td>\n",
       "      <td>2012-03-02</td>\n",
       "      <td>16.0</td>\n",
       "      <td>OZ</td>\n",
       "      <td>2</td>\n",
       "      <td>10.38</td>\n",
       "    </tr>\n",
       "  </tbody>\n",
       "</table>\n",
       "</div>"
      ],
      "text/plain": [
       "   Unnamed: 0  Unnamed: 0.1     id  chain  dept  category     company  brand  \\\n",
       "0           0             0  86246    205     7       707  1078778070  12564   \n",
       "1           1             1  86246    205    63      6319   107654575  17876   \n",
       "2           2             2  86246    205    97      9753  1022027929      0   \n",
       "3           3             3  86246    205    25      2509   107996777  31373   \n",
       "4           4             4  86246    205    55      5555   107684070  32094   \n",
       "\n",
       "         date  productsize productmeasure  purchasequantity  purchaseamount  \n",
       "0  2012-03-02         12.0             OZ                 1            7.59  \n",
       "1  2012-03-02         64.0             OZ                 1            1.59  \n",
       "2  2012-03-02          1.0             CT                 1            5.99  \n",
       "3  2012-03-02         16.0             OZ                 1            1.99  \n",
       "4  2012-03-02         16.0             OZ                 2           10.38  "
      ]
     },
     "execution_count": 35,
     "metadata": {},
     "output_type": "execute_result"
    }
   ],
   "source": [
    "# Check for the first 5 values\n",
    "df.head()"
   ]
  },
  {
   "cell_type": "code",
   "execution_count": 36,
   "metadata": {},
   "outputs": [],
   "source": [
    "# Remove the redundant columns\n",
    "\n",
    "df = df.drop(['Unnamed: 0', 'Unnamed: 0.1'],axis=1)"
   ]
  },
  {
   "cell_type": "code",
   "execution_count": 37,
   "metadata": {},
   "outputs": [
    {
     "name": "stdout",
     "output_type": "stream",
     "text": [
      "Total unique id's are:  1215\n"
     ]
    }
   ],
   "source": [
    "# Number of unique id's in the dataset\n",
    "\n",
    "print(\"Total unique id's are: \", df['id'].nunique())"
   ]
  },
  {
   "cell_type": "code",
   "execution_count": 38,
   "metadata": {},
   "outputs": [
    {
     "name": "stdout",
     "output_type": "stream",
     "text": [
      "Total unique id's are:  [   86246    86252 12262064 ... 97781522 97782380 97795325]\n"
     ]
    }
   ],
   "source": [
    "# Number of unique id's in the dataset\n",
    "\n",
    "print(\"Total unique id's are: \", df['id'].unique())"
   ]
  },
  {
   "cell_type": "code",
   "execution_count": 39,
   "metadata": {},
   "outputs": [
    {
     "name": "stdout",
     "output_type": "stream",
     "text": [
      "Number of rows  1150000\n",
      "Number of columns  11\n"
     ]
    }
   ],
   "source": [
    "# Check the total number of observation in the dataframe\n",
    "print(\"Number of rows \", df.shape[0])\n",
    "print(\"Number of columns \", df.shape[1])"
   ]
  },
  {
   "cell_type": "markdown",
   "metadata": {},
   "source": [
    "### Question 1. Create a column in the dataframe that shows how much each customer spends per visit (per day)."
   ]
  },
  {
   "cell_type": "code",
   "execution_count": 40,
   "metadata": {},
   "outputs": [],
   "source": [
    "# Create a column for the total amount spent\n",
    "\n",
    "df['total_amount'] = df['purchaseamount']*df['purchasequantity']"
   ]
  },
  {
   "cell_type": "code",
   "execution_count": 41,
   "metadata": {},
   "outputs": [],
   "source": [
    "grp = df.groupby(['id','date'],as_index=False).sum()"
   ]
  },
  {
   "cell_type": "code",
   "execution_count": 42,
   "metadata": {},
   "outputs": [],
   "source": [
    "grp = grp[['id','date','total_amount']]"
   ]
  },
  {
   "cell_type": "code",
   "execution_count": 43,
   "metadata": {},
   "outputs": [
    {
     "data": {
      "text/html": [
       "<div>\n",
       "<style scoped>\n",
       "    .dataframe tbody tr th:only-of-type {\n",
       "        vertical-align: middle;\n",
       "    }\n",
       "\n",
       "    .dataframe tbody tr th {\n",
       "        vertical-align: top;\n",
       "    }\n",
       "\n",
       "    .dataframe thead th {\n",
       "        text-align: right;\n",
       "    }\n",
       "</style>\n",
       "<table border=\"1\" class=\"dataframe\">\n",
       "  <thead>\n",
       "    <tr style=\"text-align: right;\">\n",
       "      <th></th>\n",
       "      <th>id</th>\n",
       "      <th>chain</th>\n",
       "      <th>dept</th>\n",
       "      <th>category</th>\n",
       "      <th>company</th>\n",
       "      <th>brand</th>\n",
       "      <th>date</th>\n",
       "      <th>productsize</th>\n",
       "      <th>productmeasure</th>\n",
       "      <th>purchasequantity</th>\n",
       "      <th>purchaseamount</th>\n",
       "      <th>total_amount</th>\n",
       "      <th>spending_per_day</th>\n",
       "    </tr>\n",
       "  </thead>\n",
       "  <tbody>\n",
       "    <tr>\n",
       "      <th>0</th>\n",
       "      <td>86246</td>\n",
       "      <td>205</td>\n",
       "      <td>7</td>\n",
       "      <td>707</td>\n",
       "      <td>1078778070</td>\n",
       "      <td>12564</td>\n",
       "      <td>2012-03-02</td>\n",
       "      <td>12.0</td>\n",
       "      <td>OZ</td>\n",
       "      <td>1</td>\n",
       "      <td>7.59</td>\n",
       "      <td>7.59</td>\n",
       "      <td>268.9</td>\n",
       "    </tr>\n",
       "    <tr>\n",
       "      <th>1</th>\n",
       "      <td>86246</td>\n",
       "      <td>205</td>\n",
       "      <td>63</td>\n",
       "      <td>6319</td>\n",
       "      <td>107654575</td>\n",
       "      <td>17876</td>\n",
       "      <td>2012-03-02</td>\n",
       "      <td>64.0</td>\n",
       "      <td>OZ</td>\n",
       "      <td>1</td>\n",
       "      <td>1.59</td>\n",
       "      <td>1.59</td>\n",
       "      <td>268.9</td>\n",
       "    </tr>\n",
       "    <tr>\n",
       "      <th>2</th>\n",
       "      <td>86246</td>\n",
       "      <td>205</td>\n",
       "      <td>97</td>\n",
       "      <td>9753</td>\n",
       "      <td>1022027929</td>\n",
       "      <td>0</td>\n",
       "      <td>2012-03-02</td>\n",
       "      <td>1.0</td>\n",
       "      <td>CT</td>\n",
       "      <td>1</td>\n",
       "      <td>5.99</td>\n",
       "      <td>5.99</td>\n",
       "      <td>268.9</td>\n",
       "    </tr>\n",
       "    <tr>\n",
       "      <th>3</th>\n",
       "      <td>86246</td>\n",
       "      <td>205</td>\n",
       "      <td>25</td>\n",
       "      <td>2509</td>\n",
       "      <td>107996777</td>\n",
       "      <td>31373</td>\n",
       "      <td>2012-03-02</td>\n",
       "      <td>16.0</td>\n",
       "      <td>OZ</td>\n",
       "      <td>1</td>\n",
       "      <td>1.99</td>\n",
       "      <td>1.99</td>\n",
       "      <td>268.9</td>\n",
       "    </tr>\n",
       "    <tr>\n",
       "      <th>4</th>\n",
       "      <td>86246</td>\n",
       "      <td>205</td>\n",
       "      <td>55</td>\n",
       "      <td>5555</td>\n",
       "      <td>107684070</td>\n",
       "      <td>32094</td>\n",
       "      <td>2012-03-02</td>\n",
       "      <td>16.0</td>\n",
       "      <td>OZ</td>\n",
       "      <td>2</td>\n",
       "      <td>10.38</td>\n",
       "      <td>20.76</td>\n",
       "      <td>268.9</td>\n",
       "    </tr>\n",
       "  </tbody>\n",
       "</table>\n",
       "</div>"
      ],
      "text/plain": [
       "      id  chain  dept  category     company  brand        date  productsize  \\\n",
       "0  86246    205     7       707  1078778070  12564  2012-03-02         12.0   \n",
       "1  86246    205    63      6319   107654575  17876  2012-03-02         64.0   \n",
       "2  86246    205    97      9753  1022027929      0  2012-03-02          1.0   \n",
       "3  86246    205    25      2509   107996777  31373  2012-03-02         16.0   \n",
       "4  86246    205    55      5555   107684070  32094  2012-03-02         16.0   \n",
       "\n",
       "  productmeasure  purchasequantity  purchaseamount  total_amount  \\\n",
       "0             OZ                 1            7.59          7.59   \n",
       "1             OZ                 1            1.59          1.59   \n",
       "2             CT                 1            5.99          5.99   \n",
       "3             OZ                 1            1.99          1.99   \n",
       "4             OZ                 2           10.38         20.76   \n",
       "\n",
       "   spending_per_day  \n",
       "0             268.9  \n",
       "1             268.9  \n",
       "2             268.9  \n",
       "3             268.9  \n",
       "4             268.9  "
      ]
     },
     "execution_count": 43,
     "metadata": {},
     "output_type": "execute_result"
    }
   ],
   "source": [
    "# Merge the current dataframe to the original dataframe \n",
    "df_q1 = df.merge(grp, how='left', on=['id','date'])\n",
    "df_q1.columns = ['id', 'chain', 'dept', 'category', 'company', 'brand', 'date',\n",
    "       'productsize', 'productmeasure', 'purchasequantity', 'purchaseamount',\n",
    "       'total_amount', 'spending_per_day']\n",
    "df_q1.head()"
   ]
  },
  {
   "cell_type": "markdown",
   "metadata": {},
   "source": [
    "### Question 2. Create a column that shows the number of previous visits per customer."
   ]
  },
  {
   "cell_type": "code",
   "execution_count": 44,
   "metadata": {},
   "outputs": [],
   "source": [
    "df_q2 = df[['id', 'date']]\n",
    "df_q2['count'] = np.repeat(1,df_q2.shape[0])\n",
    "df_q2 = df_q2.groupby(['id','date'], as_index = False).count()\n",
    "# We will again group by the id and get a cumulative count on the dates\n",
    "df_q2['Number_previous_visits'] = df_q2.groupby(['id'])['date'].cumcount()\n",
    "df_q2 = df_q2.drop(columns = ['count'])"
   ]
  },
  {
   "cell_type": "code",
   "execution_count": 45,
   "metadata": {},
   "outputs": [
    {
     "data": {
      "text/html": [
       "<div>\n",
       "<style scoped>\n",
       "    .dataframe tbody tr th:only-of-type {\n",
       "        vertical-align: middle;\n",
       "    }\n",
       "\n",
       "    .dataframe tbody tr th {\n",
       "        vertical-align: top;\n",
       "    }\n",
       "\n",
       "    .dataframe thead th {\n",
       "        text-align: right;\n",
       "    }\n",
       "</style>\n",
       "<table border=\"1\" class=\"dataframe\">\n",
       "  <thead>\n",
       "    <tr style=\"text-align: right;\">\n",
       "      <th></th>\n",
       "      <th>id</th>\n",
       "      <th>chain</th>\n",
       "      <th>dept</th>\n",
       "      <th>category</th>\n",
       "      <th>company</th>\n",
       "      <th>brand</th>\n",
       "      <th>date</th>\n",
       "      <th>productsize</th>\n",
       "      <th>productmeasure</th>\n",
       "      <th>purchasequantity</th>\n",
       "      <th>purchaseamount</th>\n",
       "      <th>total_amount</th>\n",
       "      <th>spending_per_day</th>\n",
       "      <th>Number_previous_visits</th>\n",
       "    </tr>\n",
       "  </thead>\n",
       "  <tbody>\n",
       "    <tr>\n",
       "      <th>0</th>\n",
       "      <td>86246</td>\n",
       "      <td>205</td>\n",
       "      <td>7</td>\n",
       "      <td>707</td>\n",
       "      <td>1078778070</td>\n",
       "      <td>12564</td>\n",
       "      <td>2012-03-02</td>\n",
       "      <td>12.0</td>\n",
       "      <td>OZ</td>\n",
       "      <td>1</td>\n",
       "      <td>7.59</td>\n",
       "      <td>7.59</td>\n",
       "      <td>268.9</td>\n",
       "      <td>0</td>\n",
       "    </tr>\n",
       "    <tr>\n",
       "      <th>1</th>\n",
       "      <td>86246</td>\n",
       "      <td>205</td>\n",
       "      <td>63</td>\n",
       "      <td>6319</td>\n",
       "      <td>107654575</td>\n",
       "      <td>17876</td>\n",
       "      <td>2012-03-02</td>\n",
       "      <td>64.0</td>\n",
       "      <td>OZ</td>\n",
       "      <td>1</td>\n",
       "      <td>1.59</td>\n",
       "      <td>1.59</td>\n",
       "      <td>268.9</td>\n",
       "      <td>0</td>\n",
       "    </tr>\n",
       "    <tr>\n",
       "      <th>2</th>\n",
       "      <td>86246</td>\n",
       "      <td>205</td>\n",
       "      <td>97</td>\n",
       "      <td>9753</td>\n",
       "      <td>1022027929</td>\n",
       "      <td>0</td>\n",
       "      <td>2012-03-02</td>\n",
       "      <td>1.0</td>\n",
       "      <td>CT</td>\n",
       "      <td>1</td>\n",
       "      <td>5.99</td>\n",
       "      <td>5.99</td>\n",
       "      <td>268.9</td>\n",
       "      <td>0</td>\n",
       "    </tr>\n",
       "    <tr>\n",
       "      <th>3</th>\n",
       "      <td>86246</td>\n",
       "      <td>205</td>\n",
       "      <td>25</td>\n",
       "      <td>2509</td>\n",
       "      <td>107996777</td>\n",
       "      <td>31373</td>\n",
       "      <td>2012-03-02</td>\n",
       "      <td>16.0</td>\n",
       "      <td>OZ</td>\n",
       "      <td>1</td>\n",
       "      <td>1.99</td>\n",
       "      <td>1.99</td>\n",
       "      <td>268.9</td>\n",
       "      <td>0</td>\n",
       "    </tr>\n",
       "    <tr>\n",
       "      <th>4</th>\n",
       "      <td>86246</td>\n",
       "      <td>205</td>\n",
       "      <td>55</td>\n",
       "      <td>5555</td>\n",
       "      <td>107684070</td>\n",
       "      <td>32094</td>\n",
       "      <td>2012-03-02</td>\n",
       "      <td>16.0</td>\n",
       "      <td>OZ</td>\n",
       "      <td>2</td>\n",
       "      <td>10.38</td>\n",
       "      <td>20.76</td>\n",
       "      <td>268.9</td>\n",
       "      <td>0</td>\n",
       "    </tr>\n",
       "  </tbody>\n",
       "</table>\n",
       "</div>"
      ],
      "text/plain": [
       "      id  chain  dept  category     company  brand        date  productsize  \\\n",
       "0  86246    205     7       707  1078778070  12564  2012-03-02         12.0   \n",
       "1  86246    205    63      6319   107654575  17876  2012-03-02         64.0   \n",
       "2  86246    205    97      9753  1022027929      0  2012-03-02          1.0   \n",
       "3  86246    205    25      2509   107996777  31373  2012-03-02         16.0   \n",
       "4  86246    205    55      5555   107684070  32094  2012-03-02         16.0   \n",
       "\n",
       "  productmeasure  purchasequantity  purchaseamount  total_amount  \\\n",
       "0             OZ                 1            7.59          7.59   \n",
       "1             OZ                 1            1.59          1.59   \n",
       "2             CT                 1            5.99          5.99   \n",
       "3             OZ                 1            1.99          1.99   \n",
       "4             OZ                 2           10.38         20.76   \n",
       "\n",
       "   spending_per_day  Number_previous_visits  \n",
       "0             268.9                       0  \n",
       "1             268.9                       0  \n",
       "2             268.9                       0  \n",
       "3             268.9                       0  \n",
       "4             268.9                       0  "
      ]
     },
     "execution_count": 45,
     "metadata": {},
     "output_type": "execute_result"
    }
   ],
   "source": [
    "# Lets merge the grouped information with the original data\n",
    "df_q2 = df_q1.merge(df_q2, how = 'left', on = ['id', 'date'])\n",
    "df_q2.head()"
   ]
  },
  {
   "cell_type": "markdown",
   "metadata": {},
   "source": [
    "### Question 3. Referencing the previous question, write a SQL query that would return the same result."
   ]
  },
  {
   "cell_type": "code",
   "execution_count": 46,
   "metadata": {},
   "outputs": [
    {
     "data": {
      "text/plain": [
       "'\\nSELECT *\\nFROM df\\n\\nLEFT JOIN(\\n\\nSELECT tableA.id, tableA.date, \\n    ROW_NUMBER() OVER (PARTITION BY tableA.id ORDER BY tableA.date) AS Number_previous_visits\\nFROM\\n    (SELECT id, date, count(date) AS count_df\\n    FROM df\\n    GROUP BY id, date) tableA)\\n\\nON df.id = tableA.id AND df.date = tableA.date\\n\\n'"
      ]
     },
     "execution_count": 46,
     "metadata": {},
     "output_type": "execute_result"
    }
   ],
   "source": [
    "'''\n",
    "SELECT *\n",
    "FROM df\n",
    "\n",
    "LEFT JOIN(\n",
    "\n",
    "SELECT tableA.id, tableA.date, \n",
    "    ROW_NUMBER() OVER (PARTITION BY tableA.id ORDER BY tableA.date) AS Number_previous_visits\n",
    "FROM\n",
    "    (SELECT id, date, count(date) AS count_df\n",
    "    FROM df\n",
    "    GROUP BY id, date) tableA)\n",
    "\n",
    "ON df.id = tableA.id AND df.date = tableA.date\n",
    "\n",
    "'''"
   ]
  },
  {
   "cell_type": "markdown",
   "metadata": {},
   "source": [
    "### Question 4. Create a column that shows the cumulative count (rolling sum) of previous purchases (per customer) that took place in department 99."
   ]
  },
  {
   "cell_type": "code",
   "execution_count": 47,
   "metadata": {},
   "outputs": [],
   "source": [
    "# Note: Here I am assuming that by cumulative count (rolling sum), I have to calculate the rolling sum of total amount \n",
    "#       of money that the customer spends\n",
    "\n",
    "\n",
    "# Subsetting the data and taking values with dept id = 99\n",
    "df_q4 = df[df['dept']==99]\n",
    "# Grouping the data by id and date\n",
    "df_q4 = df_q4.groupby(['id','date'],as_index=False).sum()\n",
    "# Tkaing only id, date and total amount column\n",
    "df_q4 = df_q4[['id','date','total_amount']]"
   ]
  },
  {
   "cell_type": "code",
   "execution_count": 48,
   "metadata": {},
   "outputs": [],
   "source": [
    "df_q4['rolling'] = df_q4.groupby(['id'])['total_amount'].cumsum()"
   ]
  },
  {
   "cell_type": "code",
   "execution_count": 49,
   "metadata": {},
   "outputs": [
    {
     "data": {
      "text/html": [
       "<div>\n",
       "<style scoped>\n",
       "    .dataframe tbody tr th:only-of-type {\n",
       "        vertical-align: middle;\n",
       "    }\n",
       "\n",
       "    .dataframe tbody tr th {\n",
       "        vertical-align: top;\n",
       "    }\n",
       "\n",
       "    .dataframe thead th {\n",
       "        text-align: right;\n",
       "    }\n",
       "</style>\n",
       "<table border=\"1\" class=\"dataframe\">\n",
       "  <thead>\n",
       "    <tr style=\"text-align: right;\">\n",
       "      <th></th>\n",
       "      <th>id</th>\n",
       "      <th>date</th>\n",
       "      <th>total_amount</th>\n",
       "      <th>rolling</th>\n",
       "    </tr>\n",
       "  </thead>\n",
       "  <tbody>\n",
       "    <tr>\n",
       "      <th>0</th>\n",
       "      <td>86246</td>\n",
       "      <td>2012-03-02</td>\n",
       "      <td>2.49</td>\n",
       "      <td>2.49</td>\n",
       "    </tr>\n",
       "    <tr>\n",
       "      <th>1</th>\n",
       "      <td>86246</td>\n",
       "      <td>2012-03-16</td>\n",
       "      <td>2.19</td>\n",
       "      <td>4.68</td>\n",
       "    </tr>\n",
       "    <tr>\n",
       "      <th>2</th>\n",
       "      <td>86246</td>\n",
       "      <td>2012-03-17</td>\n",
       "      <td>18.25</td>\n",
       "      <td>22.93</td>\n",
       "    </tr>\n",
       "    <tr>\n",
       "      <th>3</th>\n",
       "      <td>86246</td>\n",
       "      <td>2012-03-18</td>\n",
       "      <td>8.58</td>\n",
       "      <td>31.51</td>\n",
       "    </tr>\n",
       "    <tr>\n",
       "      <th>4</th>\n",
       "      <td>86246</td>\n",
       "      <td>2012-03-21</td>\n",
       "      <td>14.24</td>\n",
       "      <td>45.75</td>\n",
       "    </tr>\n",
       "    <tr>\n",
       "      <th>5</th>\n",
       "      <td>86246</td>\n",
       "      <td>2012-03-22</td>\n",
       "      <td>5.08</td>\n",
       "      <td>50.83</td>\n",
       "    </tr>\n",
       "    <tr>\n",
       "      <th>6</th>\n",
       "      <td>86246</td>\n",
       "      <td>2012-03-24</td>\n",
       "      <td>3.29</td>\n",
       "      <td>54.12</td>\n",
       "    </tr>\n",
       "    <tr>\n",
       "      <th>7</th>\n",
       "      <td>86246</td>\n",
       "      <td>2012-03-25</td>\n",
       "      <td>6.18</td>\n",
       "      <td>60.30</td>\n",
       "    </tr>\n",
       "    <tr>\n",
       "      <th>8</th>\n",
       "      <td>86246</td>\n",
       "      <td>2012-03-31</td>\n",
       "      <td>9.28</td>\n",
       "      <td>69.58</td>\n",
       "    </tr>\n",
       "    <tr>\n",
       "      <th>9</th>\n",
       "      <td>86246</td>\n",
       "      <td>2012-04-01</td>\n",
       "      <td>1.49</td>\n",
       "      <td>71.07</td>\n",
       "    </tr>\n",
       "  </tbody>\n",
       "</table>\n",
       "</div>"
      ],
      "text/plain": [
       "      id        date  total_amount  rolling\n",
       "0  86246  2012-03-02          2.49     2.49\n",
       "1  86246  2012-03-16          2.19     4.68\n",
       "2  86246  2012-03-17         18.25    22.93\n",
       "3  86246  2012-03-18          8.58    31.51\n",
       "4  86246  2012-03-21         14.24    45.75\n",
       "5  86246  2012-03-22          5.08    50.83\n",
       "6  86246  2012-03-24          3.29    54.12\n",
       "7  86246  2012-03-25          6.18    60.30\n",
       "8  86246  2012-03-31          9.28    69.58\n",
       "9  86246  2012-04-01          1.49    71.07"
      ]
     },
     "execution_count": 49,
     "metadata": {},
     "output_type": "execute_result"
    }
   ],
   "source": [
    "df_q4.head(10)"
   ]
  },
  {
   "cell_type": "markdown",
   "metadata": {},
   "source": [
    "### Question 5. Create a histogram that shows the distinct visits per customer. A distinct visit is defined as a customer visiting the store on two separate days."
   ]
  },
  {
   "cell_type": "code",
   "execution_count": 50,
   "metadata": {},
   "outputs": [],
   "source": [
    "df_q5 = df.groupby(['id','date'],as_index=False).sum()"
   ]
  },
  {
   "cell_type": "code",
   "execution_count": 51,
   "metadata": {},
   "outputs": [],
   "source": [
    "df_q55 = df_q5.groupby('id').count()"
   ]
  },
  {
   "cell_type": "code",
   "execution_count": 52,
   "metadata": {},
   "outputs": [
    {
     "data": {
      "image/png": "[encoded data removed]",
      "text/plain": [
       "<Figure size 1440x720 with 1 Axes>"
      ]
     },
     "metadata": {},
     "output_type": "display_data"
    }
   ],
   "source": [
    "plt.figure(figsize=(20,10))\n",
    "plt.hist(df_q55['date'])\n",
    "plt.ylabel(\"Number of visits\")\n",
    "plt.show()"
   ]
  },
  {
   "cell_type": "markdown",
   "metadata": {},
   "source": [
    "### Question 6. Plot the distribution of days between visits, per customer. For example, if a customer comes in on 1/1/2019 and again on 1/3/2019, the days between visits equals 2 days."
   ]
  },
  {
   "cell_type": "code",
   "execution_count": 53,
   "metadata": {},
   "outputs": [
    {
     "data": {
      "text/plain": [
       "[<matplotlib.lines.Line2D at 0x10d46f668>]"
      ]
     },
     "execution_count": 53,
     "metadata": {},
     "output_type": "execute_result"
    },
    {
     "data": {
      "image/png": "[encoded data removed]",
      "text/plain": [
       "<Figure size 1440x720 with 1 Axes>"
      ]
     },
     "metadata": {},
     "output_type": "display_data"
    }
   ],
   "source": [
    "df['date']=pd.to_datetime(df['date'])\n",
    "df_temp = df.groupby(['id','date'],as_index=False).sum()\n",
    "df_temp['date']=pd.to_datetime(df_temp['date'])\n",
    "\n",
    "df_q6 = df_temp[['id', 'date']]\n",
    "df_q6['previous_visit'] = df_q6.groupby(['id'], as_index = False)['date'].shift(1)['date']\n",
    "df_q6['lag'] = (df_q6['date'] - df_q6['previous_visit']).dt.days\n",
    "\n",
    "plt.figure(figsize=(20,10))\n",
    "plt.plot(df_q6.groupby('id', as_index = False)['lag'].mean()['lag'])"
   ]
  },
  {
   "cell_type": "markdown",
   "metadata": {},
   "source": [
    "### Question 7. Write a function that “looks into the future” and creates a Boolean column in your dataframe. The column will have a value of 1 if the customer comes in to the store (and completes a purchase) within the next five days, 0 otherwise."
   ]
  },
  {
   "cell_type": "code",
   "execution_count": 54,
   "metadata": {},
   "outputs": [],
   "source": [
    "def future(df):\n",
    "    df['date'] = pd.to_datetime(df['date'])\n",
    "    # Lets first remove the values where purchase quantity is less than 1\n",
    "    df = df[df['purchasequantity'] >= 1]\n",
    "    # Group the data by id and date\n",
    "    dataframe = df.groupby(['id','date'],as_index=False).sum()\n",
    "    # shift the date column by 1 and take the difference. When the difference is less than equal to 5 --> give 1 value\n",
    "    dataframe['future_value'] = (dataframe.groupby('id')['date'].shift(-1) - dataframe['date']).dt.days <= 5\n",
    "    dataframe['future_value'] = np.where(dataframe['future_value'] == True,1,0)\n",
    "    return dataframe"
   ]
  },
  {
   "cell_type": "code",
   "execution_count": 55,
   "metadata": {},
   "outputs": [],
   "source": [
    "df_q7 = df_q2.merge(future(df_q2)[['id','date','future_value']], how='left', on=['id','date'])"
   ]
  },
  {
   "cell_type": "code",
   "execution_count": 56,
   "metadata": {},
   "outputs": [
    {
     "data": {
      "text/html": [
       "<div>\n",
       "<style scoped>\n",
       "    .dataframe tbody tr th:only-of-type {\n",
       "        vertical-align: middle;\n",
       "    }\n",
       "\n",
       "    .dataframe tbody tr th {\n",
       "        vertical-align: top;\n",
       "    }\n",
       "\n",
       "    .dataframe thead th {\n",
       "        text-align: right;\n",
       "    }\n",
       "</style>\n",
       "<table border=\"1\" class=\"dataframe\">\n",
       "  <thead>\n",
       "    <tr style=\"text-align: right;\">\n",
       "      <th></th>\n",
       "      <th>id</th>\n",
       "      <th>chain</th>\n",
       "      <th>dept</th>\n",
       "      <th>category</th>\n",
       "      <th>company</th>\n",
       "      <th>brand</th>\n",
       "      <th>date</th>\n",
       "      <th>productsize</th>\n",
       "      <th>productmeasure</th>\n",
       "      <th>purchasequantity</th>\n",
       "      <th>purchaseamount</th>\n",
       "      <th>total_amount</th>\n",
       "      <th>spending_per_day</th>\n",
       "      <th>Number_previous_visits</th>\n",
       "      <th>future_value</th>\n",
       "    </tr>\n",
       "  </thead>\n",
       "  <tbody>\n",
       "    <tr>\n",
       "      <th>0</th>\n",
       "      <td>86246</td>\n",
       "      <td>205</td>\n",
       "      <td>7</td>\n",
       "      <td>707</td>\n",
       "      <td>1078778070</td>\n",
       "      <td>12564</td>\n",
       "      <td>2012-03-02</td>\n",
       "      <td>12.0</td>\n",
       "      <td>OZ</td>\n",
       "      <td>1</td>\n",
       "      <td>7.59</td>\n",
       "      <td>7.59</td>\n",
       "      <td>268.9</td>\n",
       "      <td>0</td>\n",
       "      <td>1.0</td>\n",
       "    </tr>\n",
       "    <tr>\n",
       "      <th>1</th>\n",
       "      <td>86246</td>\n",
       "      <td>205</td>\n",
       "      <td>63</td>\n",
       "      <td>6319</td>\n",
       "      <td>107654575</td>\n",
       "      <td>17876</td>\n",
       "      <td>2012-03-02</td>\n",
       "      <td>64.0</td>\n",
       "      <td>OZ</td>\n",
       "      <td>1</td>\n",
       "      <td>1.59</td>\n",
       "      <td>1.59</td>\n",
       "      <td>268.9</td>\n",
       "      <td>0</td>\n",
       "      <td>1.0</td>\n",
       "    </tr>\n",
       "    <tr>\n",
       "      <th>2</th>\n",
       "      <td>86246</td>\n",
       "      <td>205</td>\n",
       "      <td>97</td>\n",
       "      <td>9753</td>\n",
       "      <td>1022027929</td>\n",
       "      <td>0</td>\n",
       "      <td>2012-03-02</td>\n",
       "      <td>1.0</td>\n",
       "      <td>CT</td>\n",
       "      <td>1</td>\n",
       "      <td>5.99</td>\n",
       "      <td>5.99</td>\n",
       "      <td>268.9</td>\n",
       "      <td>0</td>\n",
       "      <td>1.0</td>\n",
       "    </tr>\n",
       "    <tr>\n",
       "      <th>3</th>\n",
       "      <td>86246</td>\n",
       "      <td>205</td>\n",
       "      <td>25</td>\n",
       "      <td>2509</td>\n",
       "      <td>107996777</td>\n",
       "      <td>31373</td>\n",
       "      <td>2012-03-02</td>\n",
       "      <td>16.0</td>\n",
       "      <td>OZ</td>\n",
       "      <td>1</td>\n",
       "      <td>1.99</td>\n",
       "      <td>1.99</td>\n",
       "      <td>268.9</td>\n",
       "      <td>0</td>\n",
       "      <td>1.0</td>\n",
       "    </tr>\n",
       "    <tr>\n",
       "      <th>4</th>\n",
       "      <td>86246</td>\n",
       "      <td>205</td>\n",
       "      <td>55</td>\n",
       "      <td>5555</td>\n",
       "      <td>107684070</td>\n",
       "      <td>32094</td>\n",
       "      <td>2012-03-02</td>\n",
       "      <td>16.0</td>\n",
       "      <td>OZ</td>\n",
       "      <td>2</td>\n",
       "      <td>10.38</td>\n",
       "      <td>20.76</td>\n",
       "      <td>268.9</td>\n",
       "      <td>0</td>\n",
       "      <td>1.0</td>\n",
       "    </tr>\n",
       "  </tbody>\n",
       "</table>\n",
       "</div>"
      ],
      "text/plain": [
       "      id  chain  dept  category     company  brand       date  productsize  \\\n",
       "0  86246    205     7       707  1078778070  12564 2012-03-02         12.0   \n",
       "1  86246    205    63      6319   107654575  17876 2012-03-02         64.0   \n",
       "2  86246    205    97      9753  1022027929      0 2012-03-02          1.0   \n",
       "3  86246    205    25      2509   107996777  31373 2012-03-02         16.0   \n",
       "4  86246    205    55      5555   107684070  32094 2012-03-02         16.0   \n",
       "\n",
       "  productmeasure  purchasequantity  purchaseamount  total_amount  \\\n",
       "0             OZ                 1            7.59          7.59   \n",
       "1             OZ                 1            1.59          1.59   \n",
       "2             CT                 1            5.99          5.99   \n",
       "3             OZ                 1            1.99          1.99   \n",
       "4             OZ                 2           10.38         20.76   \n",
       "\n",
       "   spending_per_day  Number_previous_visits  future_value  \n",
       "0             268.9                       0           1.0  \n",
       "1             268.9                       0           1.0  \n",
       "2             268.9                       0           1.0  \n",
       "3             268.9                       0           1.0  \n",
       "4             268.9                       0           1.0  "
      ]
     },
     "execution_count": 56,
     "metadata": {},
     "output_type": "execute_result"
    }
   ],
   "source": [
    "df_q7.head()"
   ]
  },
  {
   "cell_type": "markdown",
   "metadata": {},
   "source": [
    "### Question 8. Plot the distribution of how much customers spend per day."
   ]
  },
  {
   "cell_type": "code",
   "execution_count": 57,
   "metadata": {},
   "outputs": [],
   "source": [
    "df_q8 = df.groupby('date').sum()"
   ]
  },
  {
   "cell_type": "code",
   "execution_count": 58,
   "metadata": {},
   "outputs": [
    {
     "data": {
      "image/png": "[encoded data removed]",
      "text/plain": [
       "<Figure size 1440x720 with 1 Axes>"
      ]
     },
     "metadata": {},
     "output_type": "display_data"
    }
   ],
   "source": [
    "plt.figure(figsize=(20,10))\n",
    "df_q8['total_amount'].plot()\n",
    "plt.ylabel('Total money spent per day by customers')\n",
    "plt.show()"
   ]
  },
  {
   "cell_type": "markdown",
   "metadata": {},
   "source": [
    "### Question 9. Which customer(s) has the highest number of consecutive shopping days?"
   ]
  },
  {
   "cell_type": "code",
   "execution_count": 59,
   "metadata": {},
   "outputs": [],
   "source": [
    "df = df.groupby(['id','date'],as_index=False).sum()\n",
    "df['date'] = pd.to_datetime(df['date'])"
   ]
  },
  {
   "cell_type": "code",
   "execution_count": 60,
   "metadata": {},
   "outputs": [],
   "source": [
    "s = df.groupby('id').date.diff().dt.days.fillna(1).ne(1).cumsum()\n",
    "df_q9 = df.groupby(['id', s]).size().reset_index(level=1, drop=True)"
   ]
  },
  {
   "cell_type": "code",
   "execution_count": 61,
   "metadata": {},
   "outputs": [
    {
     "name": "stdout",
     "output_type": "stream",
     "text": [
      "Customer with id: 86252 has the highest number of consecutive shopping days\n"
     ]
    }
   ],
   "source": [
    "print(\"Customer with id:\",df_q9.idxmax() , \"has the highest number of consecutive shopping days\")"
   ]
  },
  {
   "cell_type": "markdown",
   "metadata": {},
   "source": [
    "### Question 10. On average how often do customers come in per month?"
   ]
  },
  {
   "cell_type": "code",
   "execution_count": 62,
   "metadata": {},
   "outputs": [],
   "source": [
    "df_q10 = df"
   ]
  },
  {
   "cell_type": "code",
   "execution_count": 63,
   "metadata": {},
   "outputs": [
    {
     "data": {
      "text/html": [
       "<div>\n",
       "<style scoped>\n",
       "    .dataframe tbody tr th:only-of-type {\n",
       "        vertical-align: middle;\n",
       "    }\n",
       "\n",
       "    .dataframe tbody tr th {\n",
       "        vertical-align: top;\n",
       "    }\n",
       "\n",
       "    .dataframe thead th {\n",
       "        text-align: right;\n",
       "    }\n",
       "</style>\n",
       "<table border=\"1\" class=\"dataframe\">\n",
       "  <thead>\n",
       "    <tr style=\"text-align: right;\">\n",
       "      <th></th>\n",
       "      <th>id</th>\n",
       "      <th>date</th>\n",
       "      <th>chain</th>\n",
       "      <th>dept</th>\n",
       "      <th>category</th>\n",
       "      <th>company</th>\n",
       "      <th>brand</th>\n",
       "      <th>productsize</th>\n",
       "      <th>purchasequantity</th>\n",
       "      <th>purchaseamount</th>\n",
       "      <th>total_amount</th>\n",
       "    </tr>\n",
       "  </thead>\n",
       "  <tbody>\n",
       "    <tr>\n",
       "      <th>0</th>\n",
       "      <td>86246</td>\n",
       "      <td>2012-03-02</td>\n",
       "      <td>10660</td>\n",
       "      <td>2256</td>\n",
       "      <td>226559</td>\n",
       "      <td>12893765502</td>\n",
       "      <td>795572</td>\n",
       "      <td>1878.40</td>\n",
       "      <td>58</td>\n",
       "      <td>210.51</td>\n",
       "      <td>268.90</td>\n",
       "    </tr>\n",
       "    <tr>\n",
       "      <th>1</th>\n",
       "      <td>86246</td>\n",
       "      <td>2012-03-03</td>\n",
       "      <td>1435</td>\n",
       "      <td>392</td>\n",
       "      <td>39244</td>\n",
       "      <td>719419968</td>\n",
       "      <td>117453</td>\n",
       "      <td>73.75</td>\n",
       "      <td>8</td>\n",
       "      <td>47.59</td>\n",
       "      <td>57.13</td>\n",
       "    </tr>\n",
       "    <tr>\n",
       "      <th>2</th>\n",
       "      <td>86246</td>\n",
       "      <td>2012-03-04</td>\n",
       "      <td>2460</td>\n",
       "      <td>404</td>\n",
       "      <td>40520</td>\n",
       "      <td>1252057702</td>\n",
       "      <td>176237</td>\n",
       "      <td>124.25</td>\n",
       "      <td>15</td>\n",
       "      <td>32.38</td>\n",
       "      <td>37.34</td>\n",
       "    </tr>\n",
       "    <tr>\n",
       "      <th>3</th>\n",
       "      <td>86246</td>\n",
       "      <td>2012-03-05</td>\n",
       "      <td>1230</td>\n",
       "      <td>246</td>\n",
       "      <td>24749</td>\n",
       "      <td>637323784</td>\n",
       "      <td>63904</td>\n",
       "      <td>310.55</td>\n",
       "      <td>11</td>\n",
       "      <td>34.99</td>\n",
       "      <td>90.67</td>\n",
       "    </tr>\n",
       "    <tr>\n",
       "      <th>4</th>\n",
       "      <td>86246</td>\n",
       "      <td>2012-03-06</td>\n",
       "      <td>9020</td>\n",
       "      <td>1752</td>\n",
       "      <td>175830</td>\n",
       "      <td>11059816428</td>\n",
       "      <td>451070</td>\n",
       "      <td>602.61</td>\n",
       "      <td>66</td>\n",
       "      <td>182.33</td>\n",
       "      <td>399.08</td>\n",
       "    </tr>\n",
       "  </tbody>\n",
       "</table>\n",
       "</div>"
      ],
      "text/plain": [
       "      id       date  chain  dept  category      company   brand  productsize  \\\n",
       "0  86246 2012-03-02  10660  2256    226559  12893765502  795572      1878.40   \n",
       "1  86246 2012-03-03   1435   392     39244    719419968  117453        73.75   \n",
       "2  86246 2012-03-04   2460   404     40520   1252057702  176237       124.25   \n",
       "3  86246 2012-03-05   1230   246     24749    637323784   63904       310.55   \n",
       "4  86246 2012-03-06   9020  1752    175830  11059816428  451070       602.61   \n",
       "\n",
       "   purchasequantity  purchaseamount  total_amount  \n",
       "0                58          210.51        268.90  \n",
       "1                 8           47.59         57.13  \n",
       "2                15           32.38         37.34  \n",
       "3                11           34.99         90.67  \n",
       "4                66          182.33        399.08  "
      ]
     },
     "execution_count": 63,
     "metadata": {},
     "output_type": "execute_result"
    }
   ],
   "source": [
    "df_q10.head()"
   ]
  },
  {
   "cell_type": "code",
   "execution_count": 64,
   "metadata": {},
   "outputs": [],
   "source": [
    "df_q10['date'] = pd.to_datetime(df_q10['date'])"
   ]
  },
  {
   "cell_type": "code",
   "execution_count": 65,
   "metadata": {},
   "outputs": [],
   "source": [
    "df_q10['month'] = df_q10['date'].dt.month\n",
    "df_q10['year'] = df_q10['date'].dt.year"
   ]
  },
  {
   "cell_type": "code",
   "execution_count": 66,
   "metadata": {},
   "outputs": [
    {
     "data": {
      "text/html": [
       "<div>\n",
       "<style scoped>\n",
       "    .dataframe tbody tr th:only-of-type {\n",
       "        vertical-align: middle;\n",
       "    }\n",
       "\n",
       "    .dataframe tbody tr th {\n",
       "        vertical-align: top;\n",
       "    }\n",
       "\n",
       "    .dataframe thead th {\n",
       "        text-align: right;\n",
       "    }\n",
       "</style>\n",
       "<table border=\"1\" class=\"dataframe\">\n",
       "  <thead>\n",
       "    <tr style=\"text-align: right;\">\n",
       "      <th></th>\n",
       "      <th>id</th>\n",
       "      <th>date</th>\n",
       "      <th>chain</th>\n",
       "      <th>dept</th>\n",
       "      <th>category</th>\n",
       "      <th>company</th>\n",
       "      <th>brand</th>\n",
       "      <th>productsize</th>\n",
       "      <th>purchasequantity</th>\n",
       "      <th>purchaseamount</th>\n",
       "      <th>total_amount</th>\n",
       "      <th>month</th>\n",
       "      <th>year</th>\n",
       "    </tr>\n",
       "  </thead>\n",
       "  <tbody>\n",
       "    <tr>\n",
       "      <th>0</th>\n",
       "      <td>86246</td>\n",
       "      <td>2012-03-02</td>\n",
       "      <td>10660</td>\n",
       "      <td>2256</td>\n",
       "      <td>226559</td>\n",
       "      <td>12893765502</td>\n",
       "      <td>795572</td>\n",
       "      <td>1878.40</td>\n",
       "      <td>58</td>\n",
       "      <td>210.51</td>\n",
       "      <td>268.90</td>\n",
       "      <td>3</td>\n",
       "      <td>2012</td>\n",
       "    </tr>\n",
       "    <tr>\n",
       "      <th>1</th>\n",
       "      <td>86246</td>\n",
       "      <td>2012-03-03</td>\n",
       "      <td>1435</td>\n",
       "      <td>392</td>\n",
       "      <td>39244</td>\n",
       "      <td>719419968</td>\n",
       "      <td>117453</td>\n",
       "      <td>73.75</td>\n",
       "      <td>8</td>\n",
       "      <td>47.59</td>\n",
       "      <td>57.13</td>\n",
       "      <td>3</td>\n",
       "      <td>2012</td>\n",
       "    </tr>\n",
       "    <tr>\n",
       "      <th>2</th>\n",
       "      <td>86246</td>\n",
       "      <td>2012-03-04</td>\n",
       "      <td>2460</td>\n",
       "      <td>404</td>\n",
       "      <td>40520</td>\n",
       "      <td>1252057702</td>\n",
       "      <td>176237</td>\n",
       "      <td>124.25</td>\n",
       "      <td>15</td>\n",
       "      <td>32.38</td>\n",
       "      <td>37.34</td>\n",
       "      <td>3</td>\n",
       "      <td>2012</td>\n",
       "    </tr>\n",
       "    <tr>\n",
       "      <th>3</th>\n",
       "      <td>86246</td>\n",
       "      <td>2012-03-05</td>\n",
       "      <td>1230</td>\n",
       "      <td>246</td>\n",
       "      <td>24749</td>\n",
       "      <td>637323784</td>\n",
       "      <td>63904</td>\n",
       "      <td>310.55</td>\n",
       "      <td>11</td>\n",
       "      <td>34.99</td>\n",
       "      <td>90.67</td>\n",
       "      <td>3</td>\n",
       "      <td>2012</td>\n",
       "    </tr>\n",
       "    <tr>\n",
       "      <th>4</th>\n",
       "      <td>86246</td>\n",
       "      <td>2012-03-06</td>\n",
       "      <td>9020</td>\n",
       "      <td>1752</td>\n",
       "      <td>175830</td>\n",
       "      <td>11059816428</td>\n",
       "      <td>451070</td>\n",
       "      <td>602.61</td>\n",
       "      <td>66</td>\n",
       "      <td>182.33</td>\n",
       "      <td>399.08</td>\n",
       "      <td>3</td>\n",
       "      <td>2012</td>\n",
       "    </tr>\n",
       "  </tbody>\n",
       "</table>\n",
       "</div>"
      ],
      "text/plain": [
       "      id       date  chain  dept  category      company   brand  productsize  \\\n",
       "0  86246 2012-03-02  10660  2256    226559  12893765502  795572      1878.40   \n",
       "1  86246 2012-03-03   1435   392     39244    719419968  117453        73.75   \n",
       "2  86246 2012-03-04   2460   404     40520   1252057702  176237       124.25   \n",
       "3  86246 2012-03-05   1230   246     24749    637323784   63904       310.55   \n",
       "4  86246 2012-03-06   9020  1752    175830  11059816428  451070       602.61   \n",
       "\n",
       "   purchasequantity  purchaseamount  total_amount  month  year  \n",
       "0                58          210.51        268.90      3  2012  \n",
       "1                 8           47.59         57.13      3  2012  \n",
       "2                15           32.38         37.34      3  2012  \n",
       "3                11           34.99         90.67      3  2012  \n",
       "4                66          182.33        399.08      3  2012  "
      ]
     },
     "execution_count": 66,
     "metadata": {},
     "output_type": "execute_result"
    }
   ],
   "source": [
    "df_q10.head()"
   ]
  },
  {
   "cell_type": "code",
   "execution_count": 83,
   "metadata": {},
   "outputs": [
    {
     "data": {
      "text/plain": [
       "(7304, 13)"
      ]
     },
     "execution_count": 83,
     "metadata": {},
     "output_type": "execute_result"
    }
   ],
   "source": [
    "df_check = df\n",
    "\n",
    "df_check['date'] = pd.to_datetime(df_check['date'])\n",
    "df_check['month'] = df_check['date'].dt.month\n",
    "df_check['year'] = df_check['date'].dt.year\n",
    "df_check[(df['year'] == 2012) & (df['month'] == 3)].shape"
   ]
  },
  {
   "cell_type": "code",
   "execution_count": 67,
   "metadata": {},
   "outputs": [],
   "source": [
    "df_q10 = df_q10.groupby(['year','month']).count()"
   ]
  },
  {
   "cell_type": "code",
   "execution_count": 70,
   "metadata": {},
   "outputs": [
    {
     "name": "stdout",
     "output_type": "stream",
     "text": [
      "On average, 6954 customers visit the store per month\n"
     ]
    }
   ],
   "source": [
    "print(\"On average,\", round(df_q10['id'].mean()) ,\"customers visit the store per month\")"
   ]
  },
  {
   "cell_type": "markdown",
   "metadata": {},
   "source": [
    "### Question 11. Plot the average dollar amount spend per month?"
   ]
  },
  {
   "cell_type": "code",
   "execution_count": 88,
   "metadata": {},
   "outputs": [],
   "source": [
    "df_q11 = df\n",
    "\n",
    "df_q11['date'] = pd.to_datetime(df_q11['date'])\n",
    "\n",
    "df_q11['month'] = df_q11['date'].dt.month\n",
    "df_q11['year'] = df_q11['date'].dt.year\n",
    "df_q11 = df_q11.groupby(['year','month']).mean()"
   ]
  },
  {
   "cell_type": "code",
   "execution_count": 76,
   "metadata": {},
   "outputs": [
    {
     "data": {
      "text/plain": [
       "Text(0.5, 0, 'Month')"
      ]
     },
     "execution_count": 76,
     "metadata": {},
     "output_type": "execute_result"
    },
    {
     "data": {
      "image/png": "[encoded data removed]",
      "text/plain": [
       "<Figure size 1440x720 with 1 Axes>"
      ]
     },
     "metadata": {},
     "output_type": "display_data"
    }
   ],
   "source": [
    "# plt.figure(figsize=(20,10))\n",
    "plt.figure(figsize=(20,10))\n",
    "df_q11['total_amount'].plot()\n",
    "plt.ylabel(\"Average number of visits\")\n",
    "plt.xlabel(\"Month\")"
   ]
  },
  {
   "cell_type": "markdown",
   "metadata": {},
   "source": [
    "### Question 12. By this point you've done enough EDA to have a decent understanding of the data you are working with. Without writing any code, please explain below how you would build a useful model around this data.\n",
    "\n",
    "#### 1.  What other data do you wish you could have had access to?"
   ]
  },
  {
   "cell_type": "markdown",
   "metadata": {},
   "source": [
    "Apart from the above data, I wish I could have had access to: \n",
    "\n",
    "a. Data about how many products were sold online and how many were sold offline. \n",
    "\n",
    "Reason: How sensitive are people's buying pattern to picking up at store vs delivery. Answer to this will help us understand that can we increase our sales if we start expanding our delivery operations and more importantly we would be able to quantify the gains from undertaking such an exercise. \n",
    "\n",
    "b. What was the discount offered for each product at any point of time. \n",
    "\n",
    "Reason: What we are trying to understand is price sensitivity of individual users towards different products by understanding how they respond to different discounting schemes. This will help us design customized offers. Also, it will help us come up with better group discounts (Eg. Designing a custom package for cleaning utilities)\n",
    "\n",
    "c. Data about the placements of the product in the store. We can try to find out the products that are sold together and place them together (Associative rule mining) so that we can take the advantage of sales correlation. Eg. Will it increase the sales of bread if places closer to milk and egg. For each product, we would identify placement strategies based on consumption patterns instead of categorization by product types. \n",
    "\n"
   ]
  },
  {
   "cell_type": "markdown",
   "metadata": {},
   "source": [
    "#### 2. In your opinion, what would the company holding this data care about?\n",
    "\n",
    "a. Maximizing the revenue \n",
    "\n",
    "b. Gauging and increasing customer satisfaction"
   ]
  },
  {
   "cell_type": "markdown",
   "metadata": {},
   "source": [
    "#### 3. What would be your target variable (label)?\n",
    "\n",
    "What is the amount that the customer spends.  "
   ]
  },
  {
   "cell_type": "markdown",
   "metadata": {},
   "source": [
    "#### 4. What machine learning algorithm would you implement and why?\n",
    "\n",
    "a. Time Series (ARIMA or Neural Network): As this is a time series data, we can use ARIMA modeling/Neural Network to forecast the amount that the customer will spend in a particular month \n",
    "\n",
    "b. Clustering: For different kinds of segmentation (Products, customers) "
   ]
  },
  {
   "cell_type": "markdown",
   "metadata": {},
   "source": [
    "#### 5. What type of visualization would be helpful?\n",
    "\n"
   ]
  },
  {
   "cell_type": "markdown",
   "metadata": {},
   "source": [
    "a. ACF/PACF plot\n",
    "\n",
    "b. Low dimensional embeddings based visualization (t-SNE)\n",
    "\n",
    "c. Cluster plot"
   ]
  },
  {
   "cell_type": "code",
   "execution_count": null,
   "metadata": {},
   "outputs": [],
   "source": []
  }
 ],
 "metadata": {
  "kernelspec": {
   "display_name": "Python 3",
   "language": "python",
   "name": "python3"
  },
  "language_info": {
   "codemirror_mode": {
    "name": "ipython",
    "version": 3
   },
   "file_extension": ".py",
   "mimetype": "text/x-python",
   "name": "python",
   "nbconvert_exporter": "python",
   "pygments_lexer": "ipython3",
   "version": "3.6.8"
  }
 },
 "nbformat": 4,
 "nbformat_minor": 2
}
